{
 "cells": [
  {
   "cell_type": "code",
   "execution_count": 2,
   "metadata": {},
   "outputs": [],
   "source": [
    "#import sys\n",
    "#sys.path.append('/usr/local/lib/python3.7/site-packages/')\n",
    "import warnings\n",
    "warnings.filterwarnings('ignore')\n",
    "import numpy as np\n",
    "import pandas as pd\n",
    "import matplotlib.pyplot as plt"
   ]
  },
  {
   "cell_type": "markdown",
   "metadata": {},
   "source": [
    "## Dataset"
   ]
  },
  {
   "cell_type": "markdown",
   "metadata": {},
   "source": [
    "We begin our project by using a dataset containing the evaluations of movies of each user, we download the data from the GoupLens site: https://grouplens.org/datasets/movielens/. "
   ]
  },
  {
   "cell_type": "code",
   "execution_count": 3,
   "metadata": {},
   "outputs": [],
   "source": [
    "data = {}\n",
    "PATH = 'movielens/'\n",
    "\n",
    "#get titles.\n",
    "for line in open(PATH+'u.item', encoding='ISO-8859-1'):\n",
    "    ind, title = line.split('|')[:2]\n",
    "    data[ind] = title\n",
    "\n",
    "#get scores\n",
    "scores = {}\n",
    "for line in open(PATH+'/u.data'):\n",
    "    user, ind, score, ts = line.split('\\t')\n",
    "\n",
    "    #scores use the username as key and a dictionary as its value.\n",
    "    scores.setdefault(user, {})\n",
    "    #Each dict of scores uses the title as key and the score as its value.\n",
    "    scores[user][data[ind]] = float(score)"
   ]
  },
  {
   "cell_type": "code",
   "execution_count": 4,
   "metadata": {
    "scrolled": true
   },
   "outputs": [
    {
     "name": "stdout",
     "output_type": "stream",
     "text": [
      "information about data(dict of titles)\n",
      "1682 movies in movielens dataset\n",
      "the keys of data: 1 2 3 4 5 6 7 8 9 10 ...\n",
      "the first record of data: Toy Story (1995)\n",
      "=================================\n",
      "information about score(dict of scores)\n",
      "943 users in movielens dataset\n",
      "the keys of scores: 196 186 22 244 166 ...\n",
      "the first record of data(just show the first 5 items): \n",
      "[('Kolya (1996)', 3.0), ('Mrs. Doubtfire (1993)', 4.0), (\"Muriel's Wedding (1994)\", 4.0), ('Shall We Dance? (1996)', 3.0), ('Stand by Me (1986)', 5.0)]\n"
     ]
    }
   ],
   "source": [
    "print('information about data(dict of titles)')\n",
    "print('%d movies in movielens dataset'%len(data))\n",
    "id_movies = list(data.keys())\n",
    "print('the keys of data:', ' '.join(id_movies[:10]), '...')\n",
    "print('the first record of data: {}'.format(data[id_movies[0]]))\n",
    "\n",
    "print('=================================')\n",
    "print('information about score(dict of scores)')\n",
    "print('%d users in movielens dataset'%len(scores))\n",
    "id_users = list(scores.keys())\n",
    "print('the keys of scores:', ' '.join(id_users[:5]), '...')\n",
    "print('the first record of data(just show the first 5 items): \\n{}'.format(\n",
    "    list(scores[id_users[0]].items())[:5]))"
   ]
  },
  {
   "cell_type": "markdown",
   "metadata": {},
   "source": [
    "**note**\n",
    "\n",
    "The dict scores containing the evalutions of $943$ users for the $1682$ movies. Each score is supposed to be in range $[0.0, 5.0]$."
   ]
  },
  {
   "cell_type": "code",
   "execution_count": 5,
   "metadata": {},
   "outputs": [
    {
     "data": {
      "image/png": "[encoded data removed]",
      "text/plain": [
       "<Figure size 432x288 with 1 Axes>"
      ]
     },
     "metadata": {
      "needs_background": "light"
     },
     "output_type": "display_data"
    }
   ],
   "source": [
    "#visualization for the scores fof two movies\n",
    "#See the scatter_scores() in guess_what_you_like.py\n",
    "import guess_what_you_like\n",
    "from guess_what_you_like import scatter_scores\n",
    "idx_plot = id_users[:200]\n",
    "scatter_scores(scores, 'Shall We Dance? (1996)', \\\n",
    "               'Shall We Dance? (1996)', idx_plot)\n",
    "plt.show()"
   ]
  },
  {
   "cell_type": "markdown",
   "metadata": {},
   "source": [
    "## Diffenrent metrics to evaluate the similarity"
   ]
  },
  {
   "cell_type": "markdown",
   "metadata": {},
   "source": [
    "We can see from the image that some users give the same scores for both two films(for ex. 144, 293, 63, 303). We can account that they have similar taste if we only consider these two movies. \n",
    "\n",
    "In fact, there are many different methods to evaluate sccurately the similarity between users. We choose here Pearson score, Euclidean score and Cosine score and build a function called 'scorer()' in guess_what_you_like.py file."
   ]
  },
  {
   "cell_type": "code",
   "execution_count": 6,
   "metadata": {
    "scrolled": true
   },
   "outputs": [
    {
     "name": "stdout",
     "output_type": "stream",
     "text": [
      "scores between user (196, 196) and (196, 22)\n",
      "pearson score : 1.000000, \t 0.358045\n",
      "eucildean score : 1.000000, \t 0.169521\n",
      "cosine score : 1.000000, \t 0.912264\n"
     ]
    }
   ],
   "source": [
    "from guess_what_you_like import scorer\n",
    "print('scores between user ({0}, {1}) and ({2}, {3})'.format(\n",
    "    id_users[0], id_users[0], id_users[0], id_users[2]))\n",
    "for metrics in ['pearson', 'eucildean', 'cosine']:\n",
    "    print('%s score : %5f, \\t %5f'%(metrics, \n",
    "                scorer(scores[id_users[0]], scores[id_users[0]], metrics),\n",
    "                scorer(scores[id_users[0]], scores[id_users[2]], metrics)))"
   ]
  },
  {
   "cell_type": "markdown",
   "metadata": {},
   "source": [
    "**note**\n",
    "\n",
    "The euclidean score is between is between $0$ and $1, 0$ means the two samples are independant.\n",
    "\n",
    "The pearson score and cosine score are in range $[-1, 1]$, $0$ means independence between them,  $1$ means the two vectors are in the same direction, $-1$ means in the different direction.\n",
    "\n",
    "Without special instructions, we default the score as cosine score."
   ]
  },
  {
   "cell_type": "markdown",
   "metadata": {},
   "source": [
    "## Matching"
   ]
  },
  {
   "cell_type": "markdown",
   "metadata": {},
   "source": [
    "Now we have the metrics to compare two users' tastes, we could match the similar users. In this part, we'll find the most simliar users with given user. See function 'get_sim_users()' in guess_what_you_like.py file."
   ]
  },
  {
   "cell_type": "code",
   "execution_count": 7,
   "metadata": {},
   "outputs": [
    {
     "data": {
      "text/html": [
       "<div>\n",
       "<style scoped>\n",
       "    .dataframe tbody tr th:only-of-type {\n",
       "        vertical-align: middle;\n",
       "    }\n",
       "\n",
       "    .dataframe tbody tr th {\n",
       "        vertical-align: top;\n",
       "    }\n",
       "\n",
       "    .dataframe thead th {\n",
       "        text-align: right;\n",
       "    }\n",
       "</style>\n",
       "<table border=\"1\" class=\"dataframe\">\n",
       "  <thead>\n",
       "    <tr style=\"text-align: right;\">\n",
       "      <th></th>\n",
       "      <th>444</th>\n",
       "      <th>935</th>\n",
       "      <th>938</th>\n",
       "      <th>778</th>\n",
       "      <th>350</th>\n",
       "    </tr>\n",
       "  </thead>\n",
       "  <tbody>\n",
       "    <tr>\n",
       "      <th>0</th>\n",
       "      <td>(1.0, 93)</td>\n",
       "      <td>(1.0, 918)</td>\n",
       "      <td>(1.0, 912)</td>\n",
       "      <td>(1.0, 937)</td>\n",
       "      <td>(1.0, 93)</td>\n",
       "    </tr>\n",
       "    <tr>\n",
       "      <th>1</th>\n",
       "      <td>(1.0, 918)</td>\n",
       "      <td>(1.0, 914)</td>\n",
       "      <td>(1.0, 641)</td>\n",
       "      <td>(1.0, 93)</td>\n",
       "      <td>(1.0, 909)</td>\n",
       "    </tr>\n",
       "    <tr>\n",
       "      <th>2</th>\n",
       "      <td>(1.0, 914)</td>\n",
       "      <td>(1.0, 912)</td>\n",
       "      <td>(1.0, 571)</td>\n",
       "      <td>(1.0, 926)</td>\n",
       "      <td>(1.0, 906)</td>\n",
       "    </tr>\n",
       "    <tr>\n",
       "      <th>3</th>\n",
       "      <td>(1.0, 897)</td>\n",
       "      <td>(1.0, 911)</td>\n",
       "      <td>(1.0, 522)</td>\n",
       "      <td>(1.0, 920)</td>\n",
       "      <td>(1.0, 905)</td>\n",
       "    </tr>\n",
       "    <tr>\n",
       "      <th>4</th>\n",
       "      <td>(1.0, 876)</td>\n",
       "      <td>(1.0, 9)</td>\n",
       "      <td>(1.0, 51)</td>\n",
       "      <td>(1.0, 915)</td>\n",
       "      <td>(1.0, 88)</td>\n",
       "    </tr>\n",
       "    <tr>\n",
       "      <th>...</th>\n",
       "      <td>...</td>\n",
       "      <td>...</td>\n",
       "      <td>...</td>\n",
       "      <td>...</td>\n",
       "      <td>...</td>\n",
       "    </tr>\n",
       "    <tr>\n",
       "      <th>937</th>\n",
       "      <td>(0, 289)</td>\n",
       "      <td>(0, 31)</td>\n",
       "      <td>(0.7753298418327284, 471)</td>\n",
       "      <td>(0, 134)</td>\n",
       "      <td>(0, 439)</td>\n",
       "    </tr>\n",
       "    <tr>\n",
       "      <th>938</th>\n",
       "      <td>(0, 208)</td>\n",
       "      <td>(0, 302)</td>\n",
       "      <td>(0.6016568375961868, 681)</td>\n",
       "      <td>(0, 133)</td>\n",
       "      <td>(0, 36)</td>\n",
       "    </tr>\n",
       "    <tr>\n",
       "      <th>939</th>\n",
       "      <td>(0, 172)</td>\n",
       "      <td>(0, 208)</td>\n",
       "      <td>(0, 855)</td>\n",
       "      <td>(0, 131)</td>\n",
       "      <td>(0, 349)</td>\n",
       "    </tr>\n",
       "    <tr>\n",
       "      <th>940</th>\n",
       "      <td>(0, 167)</td>\n",
       "      <td>(0, 172)</td>\n",
       "      <td>(0, 565)</td>\n",
       "      <td>(0, 112)</td>\n",
       "      <td>(0, 341)</td>\n",
       "    </tr>\n",
       "    <tr>\n",
       "      <th>941</th>\n",
       "      <td>(0, 142)</td>\n",
       "      <td>(0, 135)</td>\n",
       "      <td>(0, 208)</td>\n",
       "      <td>(0, 111)</td>\n",
       "      <td>(0, 300)</td>\n",
       "    </tr>\n",
       "  </tbody>\n",
       "</table>\n",
       "<p>942 rows × 5 columns</p>\n",
       "</div>"
      ],
      "text/plain": [
       "            444         935                        938         778         350\n",
       "0     (1.0, 93)  (1.0, 918)                 (1.0, 912)  (1.0, 937)   (1.0, 93)\n",
       "1    (1.0, 918)  (1.0, 914)                 (1.0, 641)   (1.0, 93)  (1.0, 909)\n",
       "2    (1.0, 914)  (1.0, 912)                 (1.0, 571)  (1.0, 926)  (1.0, 906)\n",
       "3    (1.0, 897)  (1.0, 911)                 (1.0, 522)  (1.0, 920)  (1.0, 905)\n",
       "4    (1.0, 876)    (1.0, 9)                  (1.0, 51)  (1.0, 915)   (1.0, 88)\n",
       "..          ...         ...                        ...         ...         ...\n",
       "937    (0, 289)     (0, 31)  (0.7753298418327284, 471)    (0, 134)    (0, 439)\n",
       "938    (0, 208)    (0, 302)  (0.6016568375961868, 681)    (0, 133)     (0, 36)\n",
       "939    (0, 172)    (0, 208)                   (0, 855)    (0, 131)    (0, 349)\n",
       "940    (0, 167)    (0, 172)                   (0, 565)    (0, 112)    (0, 341)\n",
       "941    (0, 142)    (0, 135)                   (0, 208)    (0, 111)    (0, 300)\n",
       "\n",
       "[942 rows x 5 columns]"
      ]
     },
     "execution_count": 7,
     "metadata": {},
     "output_type": "execute_result"
    }
   ],
   "source": [
    "from guess_what_you_like import get_sim_user\n",
    "\n",
    "#Choose randomly 5 users to calculate their similar users.\n",
    "seed = np.random.RandomState(512)\n",
    "user_tars = [id_users[_] for _ in  seed.randint(0, len(id_users)-1, size=5)]\n",
    "sim_users = [get_sim_user(user_tar, scores, n=-1) for user_tar in user_tars]\n",
    "df_sim_users = pd.DataFrame(sim_users).T\n",
    "df_sim_users.columns=user_tars\n",
    "df_sim_users"
   ]
  },
  {
   "cell_type": "markdown",
   "metadata": {},
   "source": [
    "**note**\n",
    "\n",
    "This function returns a ordered list of similar users of given user. Then for each user, we can calculate the list of his preference. "
   ]
  },
  {
   "cell_type": "markdown",
   "metadata": {},
   "source": [
    "## Recommendations"
   ]
  },
  {
   "cell_type": "markdown",
   "metadata": {},
   "source": [
    "Now we can recommend some items for each user. The idea here is to get all the similar scores between target user and other users. Then we sort this score and endow the user with a higher similar score a higher weight. Then we calculate the weighted sum of each movie and recommend the movie with highest score to target user. See function recommend() in guess_what_you_like.py file."
   ]
  },
  {
   "cell_type": "code",
   "execution_count": 8,
   "metadata": {},
   "outputs": [
    {
     "data": {
      "text/html": [
       "<div>\n",
       "<style scoped>\n",
       "    .dataframe tbody tr th:only-of-type {\n",
       "        vertical-align: middle;\n",
       "    }\n",
       "\n",
       "    .dataframe tbody tr th {\n",
       "        vertical-align: top;\n",
       "    }\n",
       "\n",
       "    .dataframe thead th {\n",
       "        text-align: right;\n",
       "    }\n",
       "</style>\n",
       "<table border=\"1\" class=\"dataframe\">\n",
       "  <thead>\n",
       "    <tr style=\"text-align: right;\">\n",
       "      <th></th>\n",
       "      <th>444</th>\n",
       "      <th>935</th>\n",
       "      <th>938</th>\n",
       "      <th>778</th>\n",
       "      <th>350</th>\n",
       "    </tr>\n",
       "  </thead>\n",
       "  <tbody>\n",
       "    <tr>\n",
       "      <th>0</th>\n",
       "      <td>(5.0, Star Kid (1997))</td>\n",
       "      <td>(5.000000000000001, Marlene Dietrich: Shadow a...</td>\n",
       "      <td>(5.000000000000001, Saint of Fort Washington, ...</td>\n",
       "      <td>(5.000000000000001, Prefontaine (1997))</td>\n",
       "      <td>(5.000000000000001, Prefontaine (1997))</td>\n",
       "    </tr>\n",
       "    <tr>\n",
       "      <th>1</th>\n",
       "      <td>(5.0, Someone Else's America (1995))</td>\n",
       "      <td>(5.0, They Made Me a Criminal (1939))</td>\n",
       "      <td>(5.0, They Made Me a Criminal (1939))</td>\n",
       "      <td>(5.000000000000001, Great Day in Harlem, A (19...</td>\n",
       "      <td>(5.0, They Made Me a Criminal (1939))</td>\n",
       "    </tr>\n",
       "    <tr>\n",
       "      <th>2</th>\n",
       "      <td>(5.0, Santa with Muscles (1996))</td>\n",
       "      <td>(5.0, Star Kid (1997))</td>\n",
       "      <td>(5.0, Star Kid (1997))</td>\n",
       "      <td>(5.0, They Made Me a Criminal (1939))</td>\n",
       "      <td>(5.0, Star Kid (1997))</td>\n",
       "    </tr>\n",
       "    <tr>\n",
       "      <th>3</th>\n",
       "      <td>(5.0, Prefontaine (1997))</td>\n",
       "      <td>(5.0, Someone Else's America (1995))</td>\n",
       "      <td>(5.0, Someone Else's America (1995))</td>\n",
       "      <td>(5.0, Star Kid (1997))</td>\n",
       "      <td>(5.0, Someone Else's America (1995))</td>\n",
       "    </tr>\n",
       "    <tr>\n",
       "      <th>4</th>\n",
       "      <td>(5.0, Marlene Dietrich: Shadow and Light (1996) )</td>\n",
       "      <td>(5.0, Santa with Muscles (1996))</td>\n",
       "      <td>(5.0, Santa with Muscles (1996))</td>\n",
       "      <td>(5.0, Someone Else's America (1995))</td>\n",
       "      <td>(5.0, Santa with Muscles (1996))</td>\n",
       "    </tr>\n",
       "  </tbody>\n",
       "</table>\n",
       "</div>"
      ],
      "text/plain": [
       "                                                 444  \\\n",
       "0                             (5.0, Star Kid (1997))   \n",
       "1               (5.0, Someone Else's America (1995))   \n",
       "2                   (5.0, Santa with Muscles (1996))   \n",
       "3                          (5.0, Prefontaine (1997))   \n",
       "4  (5.0, Marlene Dietrich: Shadow and Light (1996) )   \n",
       "\n",
       "                                                 935  \\\n",
       "0  (5.000000000000001, Marlene Dietrich: Shadow a...   \n",
       "1              (5.0, They Made Me a Criminal (1939))   \n",
       "2                             (5.0, Star Kid (1997))   \n",
       "3               (5.0, Someone Else's America (1995))   \n",
       "4                   (5.0, Santa with Muscles (1996))   \n",
       "\n",
       "                                                 938  \\\n",
       "0  (5.000000000000001, Saint of Fort Washington, ...   \n",
       "1              (5.0, They Made Me a Criminal (1939))   \n",
       "2                             (5.0, Star Kid (1997))   \n",
       "3               (5.0, Someone Else's America (1995))   \n",
       "4                   (5.0, Santa with Muscles (1996))   \n",
       "\n",
       "                                                 778  \\\n",
       "0            (5.000000000000001, Prefontaine (1997))   \n",
       "1  (5.000000000000001, Great Day in Harlem, A (19...   \n",
       "2              (5.0, They Made Me a Criminal (1939))   \n",
       "3                             (5.0, Star Kid (1997))   \n",
       "4               (5.0, Someone Else's America (1995))   \n",
       "\n",
       "                                       350  \n",
       "0  (5.000000000000001, Prefontaine (1997))  \n",
       "1    (5.0, They Made Me a Criminal (1939))  \n",
       "2                   (5.0, Star Kid (1997))  \n",
       "3     (5.0, Someone Else's America (1995))  \n",
       "4         (5.0, Santa with Muscles (1996))  "
      ]
     },
     "execution_count": 8,
     "metadata": {},
     "output_type": "execute_result"
    }
   ],
   "source": [
    "from guess_what_you_like import recommend\n",
    "rcms = [recommend(user_tar, scores, n=-1, train_all=True) for user_tar in user_tars]\n",
    "df_rcms = pd.DataFrame(rcms, index=user_tars).T\n",
    "df_rcms.iloc[:5]#each columns is the recommendation list for a user with ID=column name"
   ]
  },
  {
   "cell_type": "code",
   "execution_count": 9,
   "metadata": {},
   "outputs": [
    {
     "data": {
      "text/plain": [
       "['Star Kid (1997)',\n",
       " \"Someone Else's America (1995)\",\n",
       " 'Santa with Muscles (1996)']"
      ]
     },
     "execution_count": 9,
     "metadata": {},
     "output_type": "execute_result"
    }
   ],
   "source": [
    "#We can get the movies as a list without the calculated scores.\n",
    "movies_rcm_0 = [s[1] for s in rcms[0]]\n",
    "movies_rcm_0[:3]"
   ]
  },
  {
   "cell_type": "markdown",
   "metadata": {},
   "source": [
    "As you noticed, we add a parameter called train_all in our function. If train_all==True, then we train on all the movies. Otherwise we only train on the movies that user_tar hasn't scored before. \n",
    "\n",
    "We have trained all in the above cell, now let's compare the score with the true score."
   ]
  },
  {
   "cell_type": "code",
   "execution_count": 10,
   "metadata": {},
   "outputs": [
    {
     "name": "stdout",
     "output_type": "stream",
     "text": [
      "Error for user 935 : 0.838541\n",
      "Error for user 938 : 0.941401\n",
      "Error for user 778 : 1.018508\n",
      "Error for user 350 : 0.617122\n"
     ]
    }
   ],
   "source": [
    "for i, user_tar in enumerate(user_tars[1:]):\n",
    "    score_subs = []\n",
    "    for movie_tar, score_tar in scores[user_tar].items():\n",
    "        score_rcm = [score for (score, movie) in rcms[i] if movie==movie_tar]\n",
    "        if score_rcm:\n",
    "            score_subs.append(np.abs(score_rcm[0] - score_tar))\n",
    "    \n",
    "    print('Error for user %s : %5f'%(user_tar, sum(score_subs)/len(score_subs)))"
   ]
  },
  {
   "cell_type": "markdown",
   "metadata": {},
   "source": [
    "In practice, when we have a large dataset, we generally set train_all = False."
   ]
  },
  {
   "cell_type": "code",
   "execution_count": 11,
   "metadata": {},
   "outputs": [
    {
     "data": {
      "text/html": [
       "<div>\n",
       "<style scoped>\n",
       "    .dataframe tbody tr th:only-of-type {\n",
       "        vertical-align: middle;\n",
       "    }\n",
       "\n",
       "    .dataframe tbody tr th {\n",
       "        vertical-align: top;\n",
       "    }\n",
       "\n",
       "    .dataframe thead th {\n",
       "        text-align: right;\n",
       "    }\n",
       "</style>\n",
       "<table border=\"1\" class=\"dataframe\">\n",
       "  <thead>\n",
       "    <tr style=\"text-align: right;\">\n",
       "      <th></th>\n",
       "      <th>444</th>\n",
       "      <th>935</th>\n",
       "      <th>938</th>\n",
       "      <th>778</th>\n",
       "      <th>350</th>\n",
       "    </tr>\n",
       "  </thead>\n",
       "  <tbody>\n",
       "    <tr>\n",
       "      <th>0</th>\n",
       "      <td>(5.0, Star Kid (1997))</td>\n",
       "      <td>(5.000000000000001, Marlene Dietrich: Shadow a...</td>\n",
       "      <td>(5.000000000000001, Saint of Fort Washington, ...</td>\n",
       "      <td>(5.000000000000001, Prefontaine (1997))</td>\n",
       "      <td>(5.000000000000001, Prefontaine (1997))</td>\n",
       "    </tr>\n",
       "    <tr>\n",
       "      <th>1</th>\n",
       "      <td>(5.0, Someone Else's America (1995))</td>\n",
       "      <td>(5.0, They Made Me a Criminal (1939))</td>\n",
       "      <td>(5.0, They Made Me a Criminal (1939))</td>\n",
       "      <td>(5.000000000000001, Great Day in Harlem, A (19...</td>\n",
       "      <td>(5.0, They Made Me a Criminal (1939))</td>\n",
       "    </tr>\n",
       "    <tr>\n",
       "      <th>2</th>\n",
       "      <td>(5.0, Santa with Muscles (1996))</td>\n",
       "      <td>(5.0, Star Kid (1997))</td>\n",
       "      <td>(5.0, Star Kid (1997))</td>\n",
       "      <td>(5.0, They Made Me a Criminal (1939))</td>\n",
       "      <td>(5.0, Star Kid (1997))</td>\n",
       "    </tr>\n",
       "    <tr>\n",
       "      <th>3</th>\n",
       "      <td>(5.0, Prefontaine (1997))</td>\n",
       "      <td>(5.0, Someone Else's America (1995))</td>\n",
       "      <td>(5.0, Someone Else's America (1995))</td>\n",
       "      <td>(5.0, Star Kid (1997))</td>\n",
       "      <td>(5.0, Someone Else's America (1995))</td>\n",
       "    </tr>\n",
       "    <tr>\n",
       "      <th>4</th>\n",
       "      <td>(5.0, Marlene Dietrich: Shadow and Light (1996) )</td>\n",
       "      <td>(5.0, Santa with Muscles (1996))</td>\n",
       "      <td>(5.0, Santa with Muscles (1996))</td>\n",
       "      <td>(5.0, Someone Else's America (1995))</td>\n",
       "      <td>(5.0, Santa with Muscles (1996))</td>\n",
       "    </tr>\n",
       "  </tbody>\n",
       "</table>\n",
       "</div>"
      ],
      "text/plain": [
       "                                                 444  \\\n",
       "0                             (5.0, Star Kid (1997))   \n",
       "1               (5.0, Someone Else's America (1995))   \n",
       "2                   (5.0, Santa with Muscles (1996))   \n",
       "3                          (5.0, Prefontaine (1997))   \n",
       "4  (5.0, Marlene Dietrich: Shadow and Light (1996) )   \n",
       "\n",
       "                                                 935  \\\n",
       "0  (5.000000000000001, Marlene Dietrich: Shadow a...   \n",
       "1              (5.0, They Made Me a Criminal (1939))   \n",
       "2                             (5.0, Star Kid (1997))   \n",
       "3               (5.0, Someone Else's America (1995))   \n",
       "4                   (5.0, Santa with Muscles (1996))   \n",
       "\n",
       "                                                 938  \\\n",
       "0  (5.000000000000001, Saint of Fort Washington, ...   \n",
       "1              (5.0, They Made Me a Criminal (1939))   \n",
       "2                             (5.0, Star Kid (1997))   \n",
       "3               (5.0, Someone Else's America (1995))   \n",
       "4                   (5.0, Santa with Muscles (1996))   \n",
       "\n",
       "                                                 778  \\\n",
       "0            (5.000000000000001, Prefontaine (1997))   \n",
       "1  (5.000000000000001, Great Day in Harlem, A (19...   \n",
       "2              (5.0, They Made Me a Criminal (1939))   \n",
       "3                             (5.0, Star Kid (1997))   \n",
       "4               (5.0, Someone Else's America (1995))   \n",
       "\n",
       "                                       350  \n",
       "0  (5.000000000000001, Prefontaine (1997))  \n",
       "1    (5.0, They Made Me a Criminal (1939))  \n",
       "2                   (5.0, Star Kid (1997))  \n",
       "3     (5.0, Someone Else's America (1995))  \n",
       "4         (5.0, Santa with Muscles (1996))  "
      ]
     },
     "execution_count": 11,
     "metadata": {},
     "output_type": "execute_result"
    }
   ],
   "source": [
    "rcms = [recommend(user_tar, scores, n=-1, train_all=False) for user_tar in user_tars]\n",
    "df_rcms = pd.DataFrame(rcms, index=user_tars).T\n",
    "df_rcms.iloc[:5]#each columns is the recommendation list for a user with ID=column name"
   ]
  },
  {
   "cell_type": "markdown",
   "metadata": {},
   "source": [
    "**note**\n",
    "\n",
    "In this recommendation system, the more similar user A is with user B, the larger A will influence B(the weight of A is larger among all the users except B). \n",
    "\n",
    "We use the norm_score which is the sum of similarity scores between A and all the other users as the denomitor to normalize the weights. "
   ]
  },
  {
   "cell_type": "markdown",
   "metadata": {},
   "source": [
    "## Feedback"
   ]
  },
  {
   "cell_type": "markdown",
   "metadata": {},
   "source": [
    "Now we want to ameliorate the system through the feedback of the users, i.e. each time we recommends the user a movie, he can choose either click it or not. We'll learn from each click of the users, and then improve the sort strategy to reflect better his/her preference for a while."
   ]
  },
  {
   "cell_type": "markdown",
   "metadata": {},
   "source": [
    "To accomplish it, we'll build a neural network. The idea is that we firstly generate $k$ recommendations for target user, then the user will select one movie(movie_selected) from the list and see it. Then he(she) scores for this movie or not, and we add this movie and its score(if any) to database and generate a new recommendation order for him.\n",
    "\n",
    "The input layer will be the target user, and the output layer will be our recommendations for him/her, and the output layer contains the movies recommended for target users. The idea is selecting the movies with the highest scores to recommend for target user.\n",
    "\n",
    "See class back_prop()"
   ]
  },
  {
   "cell_type": "markdown",
   "metadata": {},
   "source": [
    "### Create tables and add items"
   ]
  },
  {
   "cell_type": "markdown",
   "metadata": {},
   "source": [
    "We build here a database to save the existing users so that we don't need to calculate the similarity scores each time.\n",
    "\n",
    "We create $5$ tables: 'users(user)' to save the user names, 'movies(movie)' to save the movie names, 'scores(user, movie, score)' to save the scores that each user has evaluated for each movie before, 'sim_scores(user, user_other, sim_score)' to save the similiarity between each pair of users and 'weights(user, user_other, weight)' to save the weights between user and user_other."
   ]
  },
  {
   "cell_type": "code",
   "execution_count": 36,
   "metadata": {},
   "outputs": [],
   "source": [
    "from guess_what_you_like import back_prop\n",
    "\n",
    "#Create a neural network class named rcm_nn.\n",
    "rcm_nn = back_prop('rcm_net.db')\n",
    "#Create the tables to save the data. \n",
    "#rcm_nn.create_tables() #Uncomment here the first time you creat the table\n",
    "\n",
    "#Use the first 100 items to train our net.\n",
    "scores_train = dict(list(scores.items())[:100])\n",
    "#add the users/movies/scores into the tabels\n",
    "#rcm_nn.add_items(scores_train)#Uncomment here the first time you creat the table"
   ]
  },
  {
   "cell_type": "code",
   "execution_count": 17,
   "metadata": {},
   "outputs": [
    {
     "name": "stdout",
     "output_type": "stream",
     "text": [
      "length of trained users in library:  100\n",
      "length of trained movies in library:  1448\n",
      "user 196 has scored movie Kolya (1996):  196\n"
     ]
    }
   ],
   "source": [
    "#By running self.add_items, we've added the users, movies and scores to database.\n",
    "#Confirm that we have saved our data into the db. \n",
    "user_ex, user_ex_1 = list(scores_train.keys())[:2]\n",
    "movie_ex = list(scores_train[user_ex].keys())[0]\n",
    "print('length of trained users in library: ', rcm_nn.conn.execute('select count(*) from users').fetchone()[0])\n",
    "print('length of trained movies in library: ', rcm_nn.conn.execute('select count(*) from movies').fetchone()[0])\n",
    "print('user %s has scored movie %s: '%(user_ex, movie_ex), \\\n",
    "      rcm_nn.conn.execute('select * from scores where user=? and movie=?', (user_ex, movie_ex)).fetchone()[0])"
   ]
  },
  {
   "cell_type": "markdown",
   "metadata": {},
   "source": [
    "**note**: we haven't added the sim_scores since it takes time to calculate the similarity scores between all the pairs of users since it takes a lot of time.\n",
    "\n",
    "We'll calculate the sim_score only for the target user later, and each time we calculate the sim_scores, we'll upload it into the database so that we could query the value directly next time."
   ]
  },
  {
   "cell_type": "markdown",
   "metadata": {},
   "source": [
    "### Get recommendations"
   ]
  },
  {
   "cell_type": "markdown",
   "metadata": {},
   "source": [
    "**note** Here we use the same idea as above to reconstruct a recommendation in combination SQL sentences."
   ]
  },
  {
   "cell_type": "code",
   "execution_count": 21,
   "metadata": {
    "scrolled": false
   },
   "outputs": [
    {
     "name": "stderr",
     "output_type": "stream",
     "text": [
      "99it [00:06, 16.19it/s]\n",
      "100%|██████████| 99/99 [02:50<00:00,  1.72s/it]\n"
     ]
    },
    {
     "data": {
      "text/plain": [
       "[(3.689454574729102, 'Star Wars (1977)'),\n",
       " (3.379201743717848, 'Fargo (1996)'),\n",
       " (3.3333167553366536, 'Raiders of the Lost Ark (1981)')]"
      ]
     },
     "execution_count": 21,
     "metadata": {},
     "output_type": "execute_result"
    }
   ],
   "source": [
    "rcms = rcm_nn.get_rcms(user_ex)\n",
    "rcms"
   ]
  },
  {
   "cell_type": "code",
   "execution_count": 60,
   "metadata": {},
   "outputs": [
    {
     "data": {
      "text/plain": [
       "['Star Wars (1977)', 'Fargo (1996)', 'Raiders of the Lost Ark (1981)']"
      ]
     },
     "execution_count": 60,
     "metadata": {},
     "output_type": "execute_result"
    }
   ],
   "source": [
    "#Or we could return only the recommendations by setting the parameter show_scores as False.\n",
    "movies_rcms = rcm_nn.get_rcms(user_ex, 3, show_scores=False)\n",
    "movies_rcms"
   ]
  },
  {
   "cell_type": "code",
   "execution_count": 62,
   "metadata": {},
   "outputs": [
    {
     "data": {
      "text/plain": [
       "['Star Wars (1977)', 'Raiders of the Lost Ark (1981)', 'Toy Story (1995)']"
      ]
     },
     "execution_count": 62,
     "metadata": {},
     "output_type": "execute_result"
    }
   ],
   "source": [
    "#Try another user\n",
    "movies_rcms_1 = rcm_nn.get_rcms(user_ex_1, 3, show_scores=False)\n",
    "movies_rcms_1"
   ]
  },
  {
   "cell_type": "markdown",
   "metadata": {},
   "source": [
    "**note** During the process of recommendation, we have calculated and saved the sim_scores in our database. Let's check it!"
   ]
  },
  {
   "cell_type": "code",
   "execution_count": 63,
   "metadata": {
    "scrolled": true
   },
   "outputs": [
    {
     "data": {
      "text/plain": [
       "(197,)"
      ]
     },
     "execution_count": 63,
     "metadata": {},
     "output_type": "execute_result"
    }
   ],
   "source": [
    "list(rcm_nn.conn.execute('select count(*) from sim_scores'))[0]\n",
    "#We have calculated the sim_scores between user_ex and all the other 99 users, count=99\n",
    "#Then we added the user_ex_1 and calculated its sim_score with other 98 users, count+=98"
   ]
  },
  {
   "cell_type": "markdown",
   "metadata": {},
   "source": [
    "**note**\n",
    "For a new user, we'll generate the recommendations randomly and save it into database."
   ]
  },
  {
   "cell_type": "code",
   "execution_count": 27,
   "metadata": {},
   "outputs": [
    {
     "name": "stdout",
     "output_type": "stream",
     "text": [
      "['Citizen Kane (1941)', 'Third Man, The (1949)', 'Leopard Son, The (1996)']\n"
     ]
    }
   ],
   "source": [
    "user_new = '2000'\n",
    "movies_rcms_new = rcm_nn.get_rcms(user_new, 3, show_scores=False)\n",
    "print(movies_rcms_new)"
   ]
  },
  {
   "cell_type": "markdown",
   "metadata": {},
   "source": [
    "### Back propagation"
   ]
  },
  {
   "cell_type": "code",
   "execution_count": 20,
   "metadata": {},
   "outputs": [
    {
     "name": "stderr",
     "output_type": "stream",
     "text": [
      "99it [00:05, 18.37it/s]\n",
      "100%|██████████| 99/99 [02:52<00:00,  1.74s/it]\n"
     ]
    },
    {
     "data": {
      "text/plain": [
       "[0.9987522159434636,\n",
       " 0.9976805303410549,\n",
       " 0.9974578832959576,\n",
       " 0.9967722166353429,\n",
       " 0.9964589535867099,\n",
       " 0.9959675233417048,\n",
       " 0.9950027877094826,\n",
       " 0.9937067903368972,\n",
       " 0.9935216150793461,\n",
       " 0.9924383127545919]"
      ]
     },
     "execution_count": 20,
     "metadata": {},
     "output_type": "execute_result"
    }
   ],
   "source": [
    "rcm_nn.setup(user_ex)#set up the nodes and weights.\n",
    "rcm_nn.feed_forward(user_ex)"
   ]
  },
  {
   "cell_type": "markdown",
   "metadata": {},
   "source": [
    "**note** Here we choose tanh() function as our activation function. "
   ]
  },
  {
   "cell_type": "code",
   "execution_count": 80,
   "metadata": {},
   "outputs": [
    {
     "data": {
      "image/png": "[encoded data removed]",
      "text/plain": [
       "<Figure size 720x216 with 1 Axes>"
      ]
     },
     "metadata": {
      "needs_background": "light"
     },
     "output_type": "display_data"
    }
   ],
   "source": [
    "plt.figure(figsize=(10, 3))\n",
    "plt.title('tanh function')\n",
    "x = np.linspace(-10, 10, 1000)\n",
    "y = np.tanh(x)\n",
    "plt.plot(x, y)\n",
    "plt.grid()\n",
    "plt.axhline(1, linestyle='--', lw=1, color='r')\n",
    "plt.axhline(-1, lw=1, linestyle='--', color='r')\n",
    "plt.show()"
   ]
  },
  {
   "cell_type": "markdown",
   "metadata": {},
   "source": [
    "### Train the feedback"
   ]
  },
  {
   "cell_type": "markdown",
   "metadata": {},
   "source": [
    "Then we build a function back_prop() to calculate the error of output layer and adjust the weights. We need a function d_tanh() in this part to represent the influence degree. We can see from the above picture 'tanh function' that the activation function is quite steep near $0$, and very smooth when the absolute value of x is large enough.\n",
    "So in the steep points, we could obtain the required change of $tanh(x)$ by changing just a bit the $x$, while in the smooth points, the situation is opposite. We hence adjust the weight by multiplying the derivative of activation function: $d\\_tanh(x)\\times err(x)$."
   ]
  },
  {
   "cell_type": "markdown",
   "metadata": {},
   "source": [
    "Here we build a function update_db() to update the database or insert the weights into the database.\n",
    "\n",
    "And we run the function train() to train our neural network through the feedback of users.\n",
    "Assuming here user_ex has selected the movie ''Fargo (1996)'' from the recommendation list 'movies_rcm'. And we default the learning rate as $0.25$."
   ]
  },
  {
   "cell_type": "code",
   "execution_count": 54,
   "metadata": {
    "scrolled": true
   },
   "outputs": [],
   "source": [
    "rcm_nn.train(user_ex, movies_rcms, movies_rcms[1])"
   ]
  },
  {
   "cell_type": "markdown",
   "metadata": {},
   "source": [
    "After training the feedback, we've updated the weights as following:"
   ]
  },
  {
   "cell_type": "code",
   "execution_count": 53,
   "metadata": {
    "scrolled": true
   },
   "outputs": [
    {
     "name": "stdout",
     "output_type": "stream",
     "text": [
      "The original weight\n",
      "[(3.689454574729102, 'Star Wars (1977)'), (3.379201743717848, 'Fargo (1996)'), (3.3333167553366536, 'Raiders of the Lost Ark (1981)')]\n",
      "============================================================\n",
      "The updated weight\n",
      "[(3.686959801141529, 'Star Wars (1977)'), (3.3792124909741093, 'Fargo (1996)'), (3.32823588889914, 'Raiders of the Lost Ark (1981)')]\n"
     ]
    }
   ],
   "source": [
    "print('The original weights')\n",
    "print(rcms)\n",
    "print('='*60)\n",
    "\n",
    "print('The updated weights')\n",
    "print(rcm_nn.conn.execute('select weight, movie from weights where user=?', (user_ex, )).fetchall())"
   ]
  },
  {
   "cell_type": "markdown",
   "metadata": {},
   "source": [
    "**note** since the user has selected the movie Fargo, the neural has increased the weight of it and reduce the weights of others to some degree."
   ]
  },
  {
   "cell_type": "markdown",
   "metadata": {},
   "source": [
    "But we've noticed the adjustment is quite small, that's because we used the scores as weights, which are larger than $1$. We can see from the above figure 'tanh function' that the slope is quite small when the absolue value of $x$ is larger than $1$.To fix this, we normalize the weights.\n",
    "\n",
    "We revise it directly in the py file(line 351)"
   ]
  },
  {
   "cell_type": "code",
   "execution_count": 56,
   "metadata": {
    "scrolled": true
   },
   "outputs": [],
   "source": [
    "rcm_nn.train(user_ex, movies_rcms, movies_rcms[1])"
   ]
  },
  {
   "cell_type": "code",
   "execution_count": 59,
   "metadata": {
    "scrolled": true
   },
   "outputs": [
    {
     "name": "stdout",
     "output_type": "stream",
     "text": [
      "The original normalized weights\n",
      "[(0.35468795665581393, 'Star Wars (1977)'), (0.3248616122872447, 'Fargo (1996)'), (0.32045043105694143, 'Raiders of the Lost Ark (1981)')]\n",
      "============================================================\n",
      "The updated weights\n",
      "[(0.20418774682400195, 'Star Wars (1977)'), (0.6342549991952408, 'Fargo (1996)'), (0.18011573219615512, 'Raiders of the Lost Ark (1981)')]\n"
     ]
    }
   ],
   "source": [
    "print('The original normalized weights')\n",
    "sum_rcms = sum([_[0] for _ in rcms])\n",
    "rcms_normed = [(_[0]/sum_rcms, _[1]) for _ in rcms]\n",
    "print(rcms_normed)\n",
    "print('='*60)\n",
    "\n",
    "print('The updated weights')\n",
    "print(rcm_nn.conn.execute('select weight, movie from weights where user=?', (user_ex, )).fetchall())"
   ]
  },
  {
   "cell_type": "markdown",
   "metadata": {},
   "source": [
    "**note** We could control the changing degree by changing the parameter learning_rate."
   ]
  },
  {
   "cell_type": "markdown",
   "metadata": {},
   "source": [
    "### Apply to the whole data"
   ]
  },
  {
   "cell_type": "markdown",
   "metadata": {},
   "source": [
    "Now, let's proceed our codes into the whole dataset, which may takes a few minutes to add items and caculate the sim_scores to get recommendations."
   ]
  },
  {
   "cell_type": "code",
   "execution_count": 47,
   "metadata": {
    "scrolled": false
   },
   "outputs": [
    {
     "name": "stdout",
     "output_type": "stream",
     "text": [
      "length of trained users in library:  943\n",
      "length of trained movies in library:  1664\n",
      "user 196 has scored movie Kolya (1996):  196\n"
     ]
    }
   ],
   "source": [
    "rcm_nn_whole = back_prop('rcm_net_whole.db')\n",
    "rcm_nn_whole.create_tables()\n",
    "rcm_nn.add_items(scores)\n",
    "print('length of trained users in library: ', rcm_nn.conn.execute('select count(*) from users').fetchone()[0])\n",
    "print('length of trained movies in library: ', rcm_nn.conn.execute('select count(*) from movies').fetchone()[0])\n",
    "print('user %s has scored movie %s: '%(user_ex, movie_ex), \\\n",
    "      rcm_nn.conn.execute('select * from scores where user=? and movie=?', (user_ex, movie_ex)).fetchone()[0])"
   ]
  },
  {
   "cell_type": "code",
   "execution_count": 60,
   "metadata": {
    "scrolled": true
   },
   "outputs": [
    {
     "name": "stderr",
     "output_type": "stream",
     "text": [
      "942it [13:07,  1.20it/s] \n",
      "100%|██████████| 942/942 [3:55:41<00:00, 15.01s/it]  \n"
     ]
    }
   ],
   "source": [
    "rcms_ex = rcm_nn_whole.get_rcms(user_ex, 3)#takes about 4 hours."
   ]
  },
  {
   "cell_type": "code",
   "execution_count": 61,
   "metadata": {},
   "outputs": [
    {
     "data": {
      "text/plain": [
       "[(3.101960343781825, 'Star Wars (1977)'),\n",
       " (2.7146438574151563, 'Fargo (1996)'),\n",
       " (2.5068804270658136, 'Return of the Jedi (1983)')]"
      ]
     },
     "execution_count": 61,
     "metadata": {},
     "output_type": "execute_result"
    }
   ],
   "source": [
    "rcms_ex"
   ]
  },
  {
   "cell_type": "markdown",
   "metadata": {},
   "source": [
    "## To be improved"
   ]
  },
  {
   "cell_type": "markdown",
   "metadata": {},
   "source": [
    "There are still a lot of things that could be added into our model:\n",
    "\n",
    "- We could consider the situation where the user has no interest in any movie in our recommendation list and recreate a new list in this case.\n",
    "- We could add some hidden layers to improve the performance of our neural network.\n",
    "- We've tried to apply the back propagration to the whole dataset(943), which may takes about $4$ hours. So we should find a way to improve the efficiency. But since it just "
   ]
  }
 ],
 "metadata": {
  "kernelspec": {
   "display_name": "Python 3",
   "language": "python",
   "name": "python3"
  },
  "language_info": {
   "codemirror_mode": {
    "name": "ipython",
    "version": 3
   },
   "file_extension": ".py",
   "mimetype": "text/x-python",
   "name": "python",
   "nbconvert_exporter": "python",
   "pygments_lexer": "ipython3",
   "version": "3.7.3"
  }
 },
 "nbformat": 4,
 "nbformat_minor": 4
}
